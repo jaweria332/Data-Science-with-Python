{
 "cells": [
  {
   "cell_type": "markdown",
   "metadata": {},
   "source": [
    "# CREATING NDARRAY"
   ]
  },
  {
   "cell_type": "code",
   "execution_count": 12,
   "metadata": {},
   "outputs": [
    {
     "name": "stdout",
     "output_type": "stream",
     "text": [
      "[1 2 3 4 5 6]\n",
      "[[1 2 3 4]\n",
      " [5 6 7 8]]\n",
      "(2, 4)\n",
      "2\n",
      "int32\n",
      "int32\n"
     ]
    },
    {
     "data": {
      "text/plain": [
       "array([0, 1, 2, 3, 4, 5, 6, 7, 8])"
      ]
     },
     "execution_count": 12,
     "metadata": {},
     "output_type": "execute_result"
    }
   ],
   "source": [
    "import numpy as np\n",
    "\n",
    "#One Dimensional Array\n",
    "data1 = np.array([1, 2, 3, 4, 5, 6])\n",
    "print(data1)\n",
    "\n",
    "#Multi Dimensional Array\n",
    "data2 = np.array([[1, 2, 3, 4],[5, 6, 7, 8]])\n",
    "print(data2)\n",
    "\n",
    "#For the shape of array\n",
    "print(data2.shape)\n",
    "\n",
    "#For the dimension of array\n",
    "print(data2.ndim)\n",
    "\n",
    "#For type of array\n",
    "print(data2.dtype)\n",
    "print(data1.dtype)\n",
    "\n",
    "#For zero matric/array\n",
    "np.zeros((3,5))\n",
    "\n",
    "#built-in Python range function\n",
    "np.arange(9)"
   ]
  },
  {
   "cell_type": "markdown",
   "metadata": {},
   "source": [
    "# DATA TYPES FOR NDARRAY"
   ]
  },
  {
   "cell_type": "code",
   "execution_count": 16,
   "metadata": {},
   "outputs": [
    {
     "name": "stdout",
     "output_type": "stream",
     "text": [
      "float64\n",
      "int32\n",
      "int32\n",
      "float64\n"
     ]
    }
   ],
   "source": [
    "#array of float type\n",
    "a = np.array([11,10,9], dtype=np.float64)\n",
    "\n",
    "#array of int type\n",
    "b = np.array([11,10,9], dtype=np.int32)\n",
    "\n",
    "print(a.dtype)\n",
    "print(b.dtype)\n",
    "\n",
    "#cast int array to float\n",
    "arr = np.array([[1, 2, 3], [4, 5, 6]])\n",
    "print(arr.dtype)\n",
    "\n",
    "arr_new = arr.astype(np.float64)\n",
    "print(arr_new.dtype)\n"
   ]
  },
  {
   "cell_type": "markdown",
   "metadata": {},
   "source": [
    "# ARITHMETIC OPERATIONS ON NUMPY ARRAY "
   ]
  },
  {
   "cell_type": "code",
   "execution_count": 22,
   "metadata": {},
   "outputs": [
    {
     "data": {
      "text/plain": [
       "array([[False, False, False, False],\n",
       "       [False, False, False, False]])"
      ]
     },
     "execution_count": 22,
     "metadata": {},
     "output_type": "execute_result"
    }
   ],
   "source": [
    "a = np.array([[1,2,3,4],[5,6,7,8]])\n",
    "\n",
    "a + a  #Addition\n",
    "a - a  #Subtraction\n",
    "a * a  #Multiplication\n",
    "a / a  #Division\n",
    "\n",
    "a / 2  #Division\n",
    "a ** 2 #Square of all element\n",
    "\n",
    "b = a * 3\n",
    "\n",
    "a > b #Return bool value"
   ]
  },
  {
   "cell_type": "markdown",
   "metadata": {},
   "source": [
    "# BASIC INDEXING AND SLICING"
   ]
  },
  {
   "cell_type": "code",
   "execution_count": 25,
   "metadata": {},
   "outputs": [
    {
     "name": "stdout",
     "output_type": "stream",
     "text": [
      "7\n",
      "[5 7 9]\n",
      "[ 1  3  5  7  9 11 13 15 17 19 21]\n"
     ]
    }
   ],
   "source": [
    "#Declaring one-dimensional array\n",
    "a = np.array([1, 3, 5, 7, 9, 11, 13, 15, 17, 19, 21])\n",
    "\n",
    "print(a[3])  #Access 4th element of array as index starts from 0\n",
    "print(a[2:5]) #access element from index 2 to 4(less than 5) \n",
    "\n",
    "print(a[:])  #access all the element in array"
   ]
  },
  {
   "cell_type": "markdown",
   "metadata": {},
   "source": [
    "# MULTI-DIMENSIONAL ARRAY"
   ]
  },
  {
   "cell_type": "code",
   "execution_count": 29,
   "metadata": {},
   "outputs": [
    {
     "name": "stdout",
     "output_type": "stream",
     "text": [
      "[[[ 1  2  3]\n",
      "  [ 4  5  6]]\n",
      "\n",
      " [[ 6  7  8]\n",
      "  [ 9 10 11]]]\n",
      "(2, 2, 3)\n",
      "int32\n",
      "[[[ 4  5  6]]\n",
      "\n",
      " [[ 9 10 11]]]\n"
     ]
    }
   ],
   "source": [
    "array_3D = np.array([[[1,2,3],[4,5,6]],[[6,7,8],[9,10,11]]])\n",
    "print(array_3D)\n",
    "\n",
    "print(array_3D.shape)\n",
    "print(array_3D.dtype)\n",
    "\n",
    "x = array_3D[:, 1:2] \n",
    "print(x)"
   ]
  },
  {
   "cell_type": "markdown",
   "metadata": {},
   "source": [
    "# TRANSPOSING ARRAY AND SWAPING AXES"
   ]
  },
  {
   "cell_type": "code",
   "execution_count": 42,
   "metadata": {},
   "outputs": [
    {
     "name": "stdout",
     "output_type": "stream",
     "text": [
      "Matrix a : \n",
      "\n",
      "[[ 0  1  2  3  4]\n",
      " [ 5  6  7  8  9]\n",
      " [10 11 12 13 14]]\n",
      "\n",
      "Transpose of a : \n",
      "\n",
      "[[ 0  5 10]\n",
      " [ 1  6 11]\n",
      " [ 2  7 12]\n",
      " [ 3  8 13]\n",
      " [ 4  9 14]]\n",
      "\n",
      "Multiplication using dot function : \n",
      "\n",
      "[[125 140 155 170 185]\n",
      " [140 158 176 194 212]\n",
      " [155 176 197 218 239]\n",
      " [170 194 218 242 266]\n",
      " [185 212 239 266 293]]\n",
      "Matrix b : \n",
      "\n",
      "[[[ 0  1]\n",
      "  [ 2  3]]\n",
      "\n",
      " [[ 4  5]\n",
      "  [ 6  7]]\n",
      "\n",
      " [[ 8  9]\n",
      "  [10 11]]\n",
      "\n",
      " [[12 13]\n",
      "  [14 15]]]\n",
      "\n",
      "Transpose of a : \n",
      "\n",
      "[[[ 0  4  8 12]\n",
      "  [ 2  6 10 14]]\n",
      "\n",
      " [[ 1  5  9 13]\n",
      "  [ 3  7 11 15]]]\n"
     ]
    }
   ],
   "source": [
    "#declaring array and reshaping it 3x5 matrix\n",
    "a = np.arange(15).reshape((3,5))\n",
    "print(\"Matrix a : \\n\")\n",
    "print(a)\n",
    "\n",
    "#transposing matrix\n",
    "print(\"\\nTranspose of a : \\n\")\n",
    "print(a.T)\n",
    "\n",
    "#Multiplying both matrices using dot\n",
    "print(\"\\nMultiplication using dot function : \\n\")\n",
    "print(np.dot(a.T,a))\n",
    "\n",
    "#For multi-dimensional array\n",
    "b = np.arange(16).reshape((4,2,2))\n",
    "print(\"Matrix b : \\n\")\n",
    "\n",
    "print(b)\n",
    "\n",
    "print(\"\\nTranspose of a : \\n\")\n",
    "print(b.T)"
   ]
  },
  {
   "cell_type": "markdown",
   "metadata": {},
   "source": [
    "# UNIVERSAL FUNCTIONS"
   ]
  },
  {
   "cell_type": "code",
   "execution_count": 58,
   "metadata": {},
   "outputs": [
    {
     "name": "stdout",
     "output_type": "stream",
     "text": [
      "\n",
      "X : [-1.12125726 -1.20428324  1.11860607 -0.64016319  1.8693578 ]\n",
      "\n",
      "Y : [-1.06478561  0.90165427  0.47406676 -0.51058798  1.05778317]\n",
      "\n",
      "Remainder : \n",
      "[-0.12125726 -0.20428324  0.11860607 -0.64016319  0.8693578 ]\n",
      "\n",
      "Quotient : \n",
      "[-1. -1.  1. -0.  1.]\n",
      "\n",
      "Floor Value of X : [-2. -2.  1. -1.  1.]\n",
      "\n",
      "Ceiling Value of X : [-1. -1.  2. -0.  2.]\n"
     ]
    }
   ],
   "source": [
    "a = np.arange(12)\n",
    "\n",
    "np.sqrt(a)\n",
    "\n",
    "np.exp(a)\n",
    "\n",
    "x = np.random.randn(5)\n",
    "print(\"\\nX : \" + str(x))\n",
    "y = np.random.randn(5)\n",
    "print(\"\\nY : \" +str(y))\n",
    "\n",
    "np.maximum(x,y)\n",
    "\n",
    "remainder, quotient = np.modf(x)\n",
    "print(\"\\nRemainder : \\n\"  + str(remainder))\n",
    "print(\"\\nQuotient : \\n\" + str(quotient))\n",
    "\n",
    "\n",
    "print(\"\\nFloor Value of X : \" + str(np.floor(x)))\n",
    "print(\"\\nCeiling Value of X : \" + str(np.ceil(x)))"
   ]
  },
  {
   "cell_type": "markdown",
   "metadata": {},
   "source": [
    "# ARRAY-ORIENTED PROGRAMMING WITH ARRAYS"
   ]
  },
  {
   "cell_type": "code",
   "execution_count": 3,
   "metadata": {},
   "outputs": [
    {
     "data": {
      "text/plain": [
       "Text(0.5, 1.0, 'Square of some grid values')"
      ]
     },
     "execution_count": 3,
     "metadata": {},
     "output_type": "execute_result"
    },
    {
     "data": {
      "image/png": "[encoded data removed]",
      "text/plain": [
       "<Figure size 432x288 with 2 Axes>"
      ]
     },
     "metadata": {
      "needs_background": "light"
     },
     "output_type": "display_data"
    }
   ],
   "source": [
    "import numpy as np\n",
    "#meshgrid function of numpy\n",
    "axes = np.arange(-5, 5, 0.01) # generate 1000 points array from -5 to 5 by the difference of 0.01\n",
    "x, y = np.meshgrid(axes, axes)\n",
    "z = np.sqrt(x ** 2 + y ** 2)\n",
    "\n",
    "\n",
    "import matplotlib.pyplot as plt\n",
    "plt.imshow(z, cmap=plt.cm.gray); plt.colorbar()\n",
    "plt.title('Square of some grid values')"
   ]
  },
  {
   "cell_type": "markdown",
   "metadata": {},
   "source": [
    "# CONDITIONAL LOGIC AS ARRAY OPERATION "
   ]
  },
  {
   "cell_type": "code",
   "execution_count": 3,
   "metadata": {},
   "outputs": [
    {
     "name": "stdout",
     "output_type": "stream",
     "text": [
      "[[12 15 11]\n",
      " [10  9  6]\n",
      " [22 18  4]\n",
      " [32 10 15]]\n"
     ]
    },
    {
     "data": {
      "text/plain": [
       "array([[ True, False, False],\n",
       "       [ True, False,  True],\n",
       "       [ True,  True,  True],\n",
       "       [ True,  True, False]])"
      ]
     },
     "execution_count": 3,
     "metadata": {},
     "output_type": "execute_result"
    }
   ],
   "source": [
    "import numpy as np\n",
    "\n",
    "#define any array\n",
    "a = np.array([[12, 15, 11], [10, 9, 6],[22, 18, 4],[32,10,15]])\n",
    "\n",
    "#print the aray\n",
    "print(a)\n",
    "\n",
    "#suppose we want to check the even values in the given array\n",
    "np.where(a % 2==0, True, False)"
   ]
  },
  {
   "cell_type": "markdown",
   "metadata": {},
   "source": [
    "# MATHEMATICAL AND STATISTICAL METHODS"
   ]
  },
  {
   "cell_type": "code",
   "execution_count": 5,
   "metadata": {},
   "outputs": [
    {
     "name": "stdout",
     "output_type": "stream",
     "text": [
      "[[ 0.86857904 -1.30862507  1.90940503 -0.13797105  0.21800305]\n",
      " [ 0.1148024  -1.17330883 -0.40833541  2.25940516 -0.12343224]\n",
      " [ 0.62080978 -1.22528787  0.59169638  0.70688228  0.51657389]]\n",
      "0.22861310209172267\n",
      "3.42919653137584\n",
      "[1.54939099 0.66913108 1.21067446]\n",
      "[ 1.60419122 -3.70722177  2.09276599  2.8283164   0.6111447 ]\n"
     ]
    }
   ],
   "source": [
    "#mean of numpy\n",
    "import numpy as np\n",
    "a = np.random.randn(3,5)\n",
    "print(a)\n",
    "print(np.mean(a))\n",
    "print(a.sum())\n",
    "print(a.sum(1)) #1 means compute the sum across the column\n",
    "print(a.sum(0)) #0 means compute the sum down the row"
   ]
  },
  {
   "cell_type": "markdown",
   "metadata": {},
   "source": [
    "# METHODS FOR BOOLEAN ARRAY"
   ]
  },
  {
   "cell_type": "code",
   "execution_count": 7,
   "metadata": {},
   "outputs": [
    {
     "name": "stdout",
     "output_type": "stream",
     "text": [
      "True\n",
      "False\n"
     ]
    }
   ],
   "source": [
    "import numpy as np\n",
    "bools = np.array([True, False, False, True, True, True, True])\n",
    "print(bools.any())  #any() checks if any value is true in array\n",
    "print(bools.all())  #all() checks if all values are true in array"
   ]
  },
  {
   "cell_type": "markdown",
   "metadata": {},
   "source": [
    "# UNIQUE AND OTHER SET LOGIC"
   ]
  },
  {
   "cell_type": "code",
   "execution_count": 13,
   "metadata": {},
   "outputs": [
    {
     "name": "stdout",
     "output_type": "stream",
     "text": [
      "[ True  True  True  True  True  True False False False False  True]\n",
      "[1 2 3]\n",
      "[1 2 3 4 5]\n"
     ]
    }
   ],
   "source": [
    "#unique remove the repetitive values and make all the values of array unique\n",
    "a = np.array([12, 10, 11, 12, 10, 11, 11, 15, 18, 18, 15])\n",
    "np.unique(a)\n",
    "\n",
    "#in1d check the membership of values of one array in another\n",
    "b = np.array([1,2,3,1,3,2,5,4,4,5,3])\n",
    "b_lite = np.array([1,2,3])\n",
    "print(np.in1d(b, b_lite))\n",
    "\n",
    "#intersect1d check the common values in two arrays\n",
    "print(np.intersect1d(b, b_lite))\n",
    "\n",
    "#union1d compute the union of two arrays\n",
    "print(np.union1d(b,b_lite))"
   ]
  },
  {
   "cell_type": "markdown",
   "metadata": {},
   "source": [
    "# FILE INPUT AND OUTPUT WITH ARRAY"
   ]
  },
  {
   "cell_type": "code",
   "execution_count": 9,
   "metadata": {},
   "outputs": [
    {
     "data": {
      "text/plain": [
       "array([ 0,  1,  2,  3,  4,  5,  6,  7,  8,  9, 10])"
      ]
     },
     "execution_count": 9,
     "metadata": {},
     "output_type": "execute_result"
    }
   ],
   "source": [
    "#np.save() saves data\n",
    "import numpy as np\n",
    "a = np.array(['John','Wohler','jeniffer','Doe','Fred','Meck'])\n",
    "np.save('Name_array', a)\n",
    "\n",
    "#load array using np.load()\n",
    "np.load('Name_array.npy') #array are saved by default in .npy extension\n",
    "\n",
    "#np.savez saves multiple array in uncompressed archive\n",
    "b = np.arange(11)\n",
    "np.savez('Arch_arr', a1=a,b1=b)\n",
    "\n",
    "file = np.load('Arch_arr.npz') #.npz is the extension of files saved via savez\n",
    "file['b1']"
   ]
  },
  {
   "cell_type": "markdown",
   "metadata": {},
   "source": [
    "# LINEAR ALGEBRA WITH NUMPY"
   ]
  },
  {
   "cell_type": "code",
   "execution_count": 24,
   "metadata": {},
   "outputs": [
    {
     "name": "stdout",
     "output_type": "stream",
     "text": [
      "X :  [[ 0.78062267 -0.11550892  0.55445618  0.54762226]\n",
      " [-0.14962304  0.77778328  1.18538876 -0.49135085]\n",
      " [-0.14699555  1.38571557 -1.33624629 -0.21927144]\n",
      " [-0.00154572 -0.67584888  0.69172542 -0.44225968]]\n",
      "\n",
      "X inverse : \n",
      " [[ 1.42384784 -0.35930653  1.10720853  1.61329907]\n",
      " [ 0.13410228  0.47744338  0.23121236 -0.47902419]\n",
      " [ 0.01343203  0.52056008 -0.45499935 -0.33612288]\n",
      " [-0.18889912  0.08583295 -1.06885317 -2.06044215]]\n",
      "\n",
      "X . X inverse : \n",
      " [[ 1.00000000e+00  3.46944695e-18  0.00000000e+00 -2.22044605e-16]\n",
      " [ 8.32667268e-17  1.00000000e+00  1.11022302e-16  0.00000000e+00]\n",
      " [ 5.55111512e-17  0.00000000e+00  1.00000000e+00  0.00000000e+00]\n",
      " [ 3.46944695e-18 -5.55111512e-17  1.11022302e-16  1.00000000e+00]]\n",
      "\n",
      "Matrix : \n",
      " [[1 0 0]\n",
      " [0 2 0]\n",
      " [0 0 3]]\n",
      "\n",
      "Eigen values : \n",
      " [1. 2. 3.]\n",
      "\n",
      "Eigen vector : \n",
      " [[1. 0. 0.]\n",
      " [0. 1. 0.]\n",
      " [0. 0. 1.]]\n",
      "[3. 2. 1.]\n"
     ]
    }
   ],
   "source": [
    "#declare two matrices \n",
    "a = np.array([[2,-3,7],[4,5,1]])\n",
    "b = np.array([[1,2],[-3,-4],[5,6]])\n",
    "\n",
    "#matrices multiplication \n",
    "a.dot(b)\n",
    "np.dot(a,b)\n",
    "\n",
    "#linalg library to show: matrix X inverse of matrix = I\n",
    "\n",
    "from numpy.linalg import inv\n",
    "#first we generate 4x4 matrix of random value\n",
    "x = np.random.randn(4,4)\n",
    "#finding its inverse\n",
    "mat = inv(x)\n",
    "print(\"X : \", x)\n",
    "print(\"\\nX inverse : \\n\", mat)\n",
    "#product of x and its inverse\n",
    "print(\"\\nX . X inverse : \\n\", np.dot(x,mat))  #result shows all the diagonals are 1 and off-diagonal are approximatly equals to 0\n",
    "\n",
    "#finding eigen values and eigen vector of matrix\n",
    "from numpy import linalg as la\n",
    "a=np.diag((1,2,3))\n",
    "value, vect = la.eig(a)\n",
    "print(\"\\nMatrix : \\n\", a)\n",
    "print(\"\\nEigen values : \\n\", value)\n",
    "print(\"\\nEigen vector : \\n\", vect)\n",
    "\n",
    "#solving system of linear equation AX=B\n",
    "a = np.array([[2,3,1],[-11,7,4],[7,3,-5]])\n",
    "b = np.array([13,-15,22])\n",
    "result = la.solve(a,b)\n",
    "print(result)"
   ]
  }
 ],
 "metadata": {
  "kernelspec": {
   "display_name": "Python 3",
   "language": "python",
   "name": "python3"
  },
  "language_info": {
   "codemirror_mode": {
    "name": "ipython",
    "version": 3
   },
   "file_extension": ".py",
   "mimetype": "text/x-python",
   "name": "python",
   "nbconvert_exporter": "python",
   "pygments_lexer": "ipython3",
   "version": "3.7.4"
  }
 },
 "nbformat": 4,
 "nbformat_minor": 2
}
