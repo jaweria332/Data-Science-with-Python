{
 "cells": [
  {
   "cell_type": "code",
   "execution_count": 28,
   "metadata": {},
   "outputs": [
    {
     "name": "stdout",
     "output_type": "stream",
     "text": [
      "Your name is Jiya\n",
      "3.0 -4.5\n",
      "storage west\n",
      "debugging east\n"
     ]
    }
   ],
   "source": [
    "            #All about OOP\n",
    "    \n",
    "                          #EXAMPLE: 01\n",
    "        \n",
    "        \n",
    "        \n",
    "class Name():\n",
    "    \n",
    "    #declaring class constructor with the dataitems of class as a parameter\n",
    "    def __init__ (self, name):\n",
    "        \n",
    "        self.name = name;\n",
    "    \n",
    "    \n",
    "    #declaring simple function\n",
    "    def display(self):\n",
    "        print(\"Your name is \" + self.name)\n",
    "        \n",
    "        \n",
    "#instantiate the Name class\n",
    "n1 = Name(\"Jiya\")\n",
    "\n",
    "#calling the display method of Name class\n",
    "n1.display()\n",
    "\n",
    "\n",
    "                            #EXAMPLE: 02\n",
    "\n",
    "    \n",
    "class Complex:\n",
    "    def __init__(self, realpart, imagpart):\n",
    "        self.r = realpart\n",
    "        self.i = imagpart\n",
    "x = Complex(3.0, -4.5)\n",
    "print(x.r, x.i) \n",
    "\n",
    "\n",
    "\n",
    "                            #EXAMPLE: 03\n",
    "    \n",
    "    \n",
    "class Dog:\n",
    "\n",
    "    kind = 'canine'         # class variable shared by all instances\n",
    "\n",
    "    def __init__(self, name):\n",
    "        self.name = name    # instance variable unique to each instance\n",
    "\n",
    "d = Dog('Fido')\n",
    "e = Dog('Buddy')\n",
    "d.kind                  # shared by all dogs\n",
    "e.kind                  # shared by all dogs\n",
    "d.name                  # unique to d\n",
    "e.name                  #unique to e\n",
    "\n",
    "\n",
    "\n",
    "\n",
    "                             #EXAMPLE: 04\n",
    "\n",
    "    \n",
    "    \n",
    "#declaring class\n",
    "class Warehouse:\n",
    "    purpose = 'storage'\n",
    "    region = 'west'\n",
    "\n",
    "    \n",
    "\n",
    "#instantiating the class\n",
    "w1 = Warehouse()    #first object\n",
    "print(w1.purpose, w1.region)\n",
    "\n",
    "\n",
    "w2 = Warehouse()   #second object\n",
    "#you can change the property for object\n",
    "w2.purpose='debugging'\n",
    "w2.region='east'\n",
    "print(w2.purpose, w2.region)"
   ]
  },
  {
   "cell_type": "code",
   "execution_count": 22,
   "metadata": {},
   "outputs": [
    {
     "name": "stdout",
     "output_type": "stream",
     "text": [
      "Name of employee is Joe Doe .\n",
      "His/Her age is 20.\n",
      "He/She is expert in Development\n"
     ]
    }
   ],
   "source": [
    "#declaring simple class\n",
    "class Name():\n",
    "    \n",
    "    \n",
    "    #declaring class constructor with the dataitems of class as a parameter\n",
    "    def __init__ (self, name, age, experties):\n",
    "        self.nm = name\n",
    "        self.ag = age\n",
    "        self.exprts = experties\n",
    "        \n",
    "        \n",
    "#instantiating a class\n",
    "n1 = Name(\"Joe Doe\", 20, \"Development\")\n",
    "\n",
    "\n",
    "print(\"Name of employee is {} .\\nHis/Her age is {}.\\nHe/She is expert in {}\".format(n1.nm, n1.ag, n1.exprts) )"
   ]
  },
  {
   "cell_type": "code",
   "execution_count": 33,
   "metadata": {},
   "outputs": [
    {
     "name": "stdout",
     "output_type": "stream",
     "text": [
      "Instance of class bird is declared\n",
      "This is bird\n",
      "Bird is chirping\n",
      "Instance of class bird is declared\n",
      "Instance of sparrow class is created\n",
      "sparrow is in good mood\n",
      "This is bird\n"
     ]
    }
   ],
   "source": [
    "                             #CONCEPT OF INHERITANCE\n",
    "    \n",
    "class Birds():\n",
    "    def __init__(self):\n",
    "        print(\"Instance of class bird is declared\")\n",
    "        \n",
    "    def type(self):\n",
    "        print(\"This is bird\")\n",
    "        \n",
    "    def action(self):\n",
    "        print('Bird is chirping')\n",
    "        \n",
    "class Sparrow(Birds):\n",
    "    def __init__(self):\n",
    "        super().__init__()\n",
    "        print(\"Instance of sparrow class is created\")\n",
    "        \n",
    "    def mood(self):\n",
    "        print(\"sparrow is in good mood\")\n",
    "\n",
    "        \n",
    "#instantiating the bird class\n",
    "\n",
    "\n",
    "b1 = Birds()\n",
    "b1.type()\n",
    "b1.action()\n",
    "\n",
    "\n",
    "#instantiating the sparrow class\n",
    "s1 = Sparrow()\n",
    "s1.mood()\n",
    "s1.type()        #method of bird inherited by sparrow being a sub-class"
   ]
  },
  {
   "cell_type": "code",
   "execution_count": null,
   "metadata": {},
   "outputs": [],
   "source": []
  }
 ],
 "metadata": {
  "kernelspec": {
   "display_name": "Python 3",
   "language": "python",
   "name": "python3"
  },
  "language_info": {
   "codemirror_mode": {
    "name": "ipython",
    "version": 3
   },
   "file_extension": ".py",
   "mimetype": "text/x-python",
   "name": "python",
   "nbconvert_exporter": "python",
   "pygments_lexer": "ipython3",
   "version": "3.7.4"
  }
 },
 "nbformat": 4,
 "nbformat_minor": 2
}
