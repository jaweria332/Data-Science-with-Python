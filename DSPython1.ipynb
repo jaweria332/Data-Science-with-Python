{
 "cells": [
  {
   "cell_type": "code",
   "execution_count": 1,
   "metadata": {},
   "outputs": [
    {
     "name": "stdout",
     "output_type": "stream",
     "text": [
      "Lets start with the Python Basics\n"
     ]
    }
   ],
   "source": [
    "#Python comments start with '#' sign. As this line is commented, while compilation it'll be ignored by compiler\n",
    "print(\"Lets start with the Python Basics\")"
   ]
  },
  {
   "cell_type": "code",
   "execution_count": 6,
   "metadata": {},
   "outputs": [
    {
     "name": "stdout",
     "output_type": "stream",
     "text": [
      "54\n",
      "36\n",
      "405\n",
      "5.0\n",
      "Addition = 54\n",
      "Subtraction = 36\n",
      "Multiplication = 405\n",
      "Division = 5.0\n",
      "Hello Developers!\n"
     ]
    }
   ],
   "source": [
    "#Creating python variable and implementing simple arithmetic calculations \n",
    "x=45\n",
    "y=9\n",
    "print(x+y)\n",
    "print(x-y)\n",
    "print(x*y)\n",
    "print(x/y)\n",
    "\n",
    "#Lets see how to concatenate integer value with a string\n",
    "\n",
    "print(\"Addition = \"+ str(x+y))\n",
    "print(\"Subtraction = \"+ str(x-y))\n",
    "print(\"Multiplication = \"+ str(x*y))\n",
    "print(\"Division = \"+ str(x/y))\n",
    "\n",
    "\n",
    "#Lets concatenate two string, a bit simpler\n",
    "\n",
    "str1 = \"Hello\"\n",
    "str2 = \" Developers!\"\n",
    "print(str1 + str2)\n"
   ]
  },
  {
   "cell_type": "code",
   "execution_count": 13,
   "metadata": {},
   "outputs": [
    {
     "name": "stdout",
     "output_type": "stream",
     "text": [
      "['html', 'css', 'JavaScript', 'Php', 'SQL']\n",
      "['C', 'C#', 'C++']\n",
      "['JavaScript', 'Php', 'SQL']\n",
      "['ML', 'css', 'JavaScript', 'Php', 'SQL']\n",
      "['Python', 'R', 'Machine Learning', ['C', 'C#', 'C++'], 'Deep Learning']\n",
      "['a', 'b', 'c', 1, 2, 3]\n"
     ]
    }
   ],
   "source": [
    "#Lets play with Python lists\n",
    "#A list is a collection which is ordered and changeable. In Python lists are written with square brackets.\n",
    "\n",
    "my_list = [\"html\", \"css\", \"JavaScript\", \"Php\", \"SQL\"]\n",
    "print(my_list)\n",
    "\n",
    "\n",
    "\n",
    "#Nested list looks like,\n",
    "list2 = [\"Python\" ,\"R\", \"Machine Learning\", [\"C\", \"C#\", \"C++\"]]\n",
    "\n",
    "\n",
    "\n",
    "#Accessing list items\n",
    "print(list2[3])\n",
    "\n",
    "\n",
    "\n",
    "#Accesing multiple items using range of index\n",
    "print(my_list[2:5])    # as list index starts with 0\n",
    "\n",
    "\n",
    "\n",
    "#Changing list items\n",
    "my_list[0]=\"ML\"\n",
    "print(my_list)\n",
    "\n",
    "\n",
    "\n",
    "#Adding item in list at the end\n",
    "list2.append(\"Deep Learning\")\n",
    "print(list2)\n",
    "\n",
    "\n",
    "#Extending list with another list\n",
    "list1 = [\"a\", \"b\" , \"c\"]\n",
    "list2 = [1, 2, 3]\n",
    "\n",
    "list1.extend(list2)\n",
    "print(list1)"
   ]
  },
  {
   "cell_type": "code",
   "execution_count": 15,
   "metadata": {},
   "outputs": [
    {
     "name": "stdout",
     "output_type": "stream",
     "text": [
      "JavaScript\n"
     ]
    }
   ],
   "source": [
    "#Lets learn about tuples\n",
    "#A tuple is a collection which is ordered and unchangeable. In Python tuples are written with round brackets.\n",
    "# lists are mutable whereas tuples are immutable.\n",
    "\n",
    "my_tuple = (\"html\", \"css\", \"JavaScript\", \"Php\", \"SQL\")\n",
    "\n",
    "#Accessing tuple items\n",
    "\n",
    "print(my_tuple[2])"
   ]
  },
  {
   "cell_type": "code",
   "execution_count": null,
   "metadata": {},
   "outputs": [],
   "source": []
  },
  {
   "cell_type": "code",
   "execution_count": null,
   "metadata": {},
   "outputs": [],
   "source": []
  }
 ],
 "metadata": {
  "kernelspec": {
   "display_name": "Python 3",
   "language": "python",
   "name": "python3"
  },
  "language_info": {
   "codemirror_mode": {
    "name": "ipython",
    "version": 3
   },
   "file_extension": ".py",
   "mimetype": "text/x-python",
   "name": "python",
   "nbconvert_exporter": "python",
   "pygments_lexer": "ipython3",
   "version": "3.7.4"
  }
 },
 "nbformat": 4,
 "nbformat_minor": 2
}
