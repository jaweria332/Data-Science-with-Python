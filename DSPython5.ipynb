{
 "cells": [
  {
   "cell_type": "markdown",
   "metadata": {},
   "source": [
    "# What is lambda in python?\n",
    "As normal functions in python is defined by the keyword \"def\", there are some function which are defined without this keyword. This kind of function are called Anonymous functions. In Python these anonymous functions are defined by lambda keyword. \n",
    "\n",
    "In python, Lambda functions has following syntax:\n",
    "\n",
    "lambda arguments : expression\n",
    "\n",
    "\n"
   ]
  },
  {
   "cell_type": "code",
   "execution_count": null,
   "metadata": {},
   "outputs": [],
   "source": [
    "#Lets learn about lambda\n",
    "g = lambda x:x*x*x\n",
    "print(g(5))\n",
    "\n",
    "\n",
    "#Returning list using lambda with filter\n",
    "mylist = [1,2,3,4,5,6,7,8,9,10]\n",
    "result = list(filter(lambda x: (x%2 != 0), mylist))\n",
    "print(result)\n",
    "\n",
    "\n",
    "#Returning single value\n",
    "from functools import reduce\n",
    "mylist = [1,2,3,4,5,6,7,8,9,10,20]\n",
    "sum = reduce(lambda x,y : x + y, mylist)\n",
    "print(sum)\n",
    "\n",
    "\n",
    "#Reversing order\n",
    "string = \"Jaweria\"\n",
    "for i in reversed(string):\n",
    "    print(i)\n",
    "\n",
    "\n",
    "#For loop opertions\n",
    "\n",
    "                            #printing table in self-defined range\n",
    "X=2;\n",
    "for i in range(1,16):\n",
    "    print(str(X) + \" x \" + str(i) + \" = \" + str(X*i))\n",
    "\n",
    "    \n",
    "    \n",
    "                                #Iterate through a list\n",
    "mylist=[\"html\", \"css\",\"JavaScript\", \"php\", \"SQL\", \"Wordpress\", \"python\"];\n",
    "for i in mylist:\n",
    "    print(i)\n",
    "    \n",
    "    \n",
    "#While loop\n",
    "\n",
    "\n",
    "x=0;\n",
    "while(x!=10):\n",
    "#Condition can also given as:  x<10 OR x<=10 \n",
    "\n",
    "    print(x)\n",
    "    x += 1\n",
    "\n",
    "    \n",
    "    \n",
    "                            #Checking whether number is prime or not\n",
    "x=2;\n",
    "y=0;\n",
    "num=int(input(\"Enter number : \"))\n",
    "while(x<num):\n",
    "    if(num % x == 0):\n",
    "        break\n",
    "    else:\n",
    "        y=1;\n",
    "\n",
    "if (y == 1):\n",
    "    print(\"The given number is prime.\")\n",
    "else:\n",
    "    print(\"The given number is not prime.\")"
   ]
  },
  {
   "cell_type": "markdown",
   "metadata": {},
   "source": [
    "# What is a decorator?\n",
    "A typical decorator is a function that takes a function as an argument and returns another function. Python has a special syntax to apply decorators to functions, through a @my_decorator line above the function def."
   ]
  },
  {
   "cell_type": "code",
   "execution_count": 8,
   "metadata": {},
   "outputs": [
    {
     "name": "stdout",
     "output_type": "stream",
     "text": [
      "This is another function\n",
      "SomeString\n"
     ]
    },
    {
     "data": {
      "text/plain": [
       "['JohnDalton', 'WeeslyDoe', 'PeterScar']"
      ]
     },
     "execution_count": 8,
     "metadata": {},
     "output_type": "execute_result"
    }
   ],
   "source": [
    "# Example of decorators\n",
    "\n",
    "                            #EXAMPLE: 01\n",
    "def another_function():\n",
    "    \n",
    "    print(\"This is another function\")\n",
    "    \n",
    "    \n",
    "    \n",
    "def turn_into_another_function(func):\n",
    "    \n",
    "    return another_function\n",
    "\n",
    "@turn_into_another_function\n",
    "def a_simple_function():\n",
    "    \n",
    "    print(\"This is a simple function.\")\n",
    "    \n",
    "a_simple_function = turn_into_another_function(a_simple_function)\n",
    "\n",
    "a_simple_function()  #a simple function lost its own value and holds the value of some other function\n",
    "\n",
    "\n",
    "\n",
    "                 #EXAMPLE: 02\n",
    "#defining a function(without decorator) that simple convert underscore into CamelCase text\n",
    "def camelcase(str):\n",
    "    \n",
    "    \"\"\"Turn string_like_this into StringLikeThis\"\"\"\n",
    "    \n",
    "    return ''.join([word.capitalize() for word in str.split('_')])\n",
    "\n",
    "\n",
    "print(camelcase('some_string'))\n",
    "\n",
    "#if we provide any list of string to above function then it'll give you error. To overcome that, we can use decorators\n",
    "\n",
    "\n",
    "\n",
    "\n",
    "#defining a function(with decorator) that simple convert underscore into CamelCase text\n",
    "def mapper(func):\n",
    "    \n",
    "    def inner1(list_of_value):\n",
    "        \n",
    "        return [func(value) for value in list_of_value]\n",
    "    \n",
    "    return inner1\n",
    "\n",
    "\n",
    "@mapper\n",
    "def camelcase(str):\n",
    "    \n",
    "    \"\"\"Turn string_like_this into StringLikeThis\"\"\"\n",
    "    \n",
    "    return ''.join([word.capitalize() for word in str.split('_')])\n",
    "\n",
    "\n",
    "names = [\"john_dalton\", \"weesly_doe\", \"peter_scar\"]\n",
    "\n",
    "camelcase(names)"
   ]
  },
  {
   "cell_type": "code",
   "execution_count": null,
   "metadata": {},
   "outputs": [],
   "source": []
  }
 ],
 "metadata": {
  "kernelspec": {
   "display_name": "Python 3",
   "language": "python",
   "name": "python3"
  },
  "language_info": {
   "codemirror_mode": {
    "name": "ipython",
    "version": 3
   },
   "file_extension": ".py",
   "mimetype": "text/x-python",
   "name": "python",
   "nbconvert_exporter": "python",
   "pygments_lexer": "ipython3",
   "version": "3.7.4"
  }
 },
 "nbformat": 4,
 "nbformat_minor": 2
}
